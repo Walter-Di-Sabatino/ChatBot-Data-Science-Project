{
 "cells": [
  {
   "cell_type": "code",
   "execution_count": null,
   "metadata": {},
   "outputs": [],
   "source": [
    "import pandas as pd\n",
    "\n",
    "# Percorso completo del file CSV\n",
    "csv_file = r'C:/Users\\dswal\\Desktop/ChatBot-Data-Science-Project/lookup_files\\developers_names.csv'\n",
    "\n",
    "# Leggi il file CSV\n",
    "df = pd.read_csv(csv_file)\n",
    "\n",
    "column = 'developer'\n",
    "\n",
    "# Estrai i valori della colonna come lista\n",
    "elements_list = df[column].tolist()\n"
   ]
  },
  {
   "cell_type": "code",
   "execution_count": 5,
   "metadata": {},
   "outputs": [
    {
     "ename": "AttributeError",
     "evalue": "'float' object has no attribute 'lower'",
     "output_type": "error",
     "traceback": [
      "\u001b[1;31m---------------------------------------------------------------------------\u001b[0m",
      "\u001b[1;31mAttributeError\u001b[0m                            Traceback (most recent call last)",
      "Cell \u001b[1;32mIn[5], line 1\u001b[0m\n\u001b[1;32m----> 1\u001b[0m elements_list \u001b[38;5;241m=\u001b[39m [\u001b[38;5;28mstr\u001b[39m(\u001b[43mgenre\u001b[49m\u001b[38;5;241;43m.\u001b[39;49m\u001b[43mlower\u001b[49m()) \u001b[38;5;28;01mfor\u001b[39;00m genre \u001b[38;5;129;01min\u001b[39;00m elements_list]\n",
      "\u001b[1;31mAttributeError\u001b[0m: 'float' object has no attribute 'lower'"
     ]
    }
   ],
   "source": [
    "elements_list = [str(genre.lower()) for genre in elements_list]\n"
   ]
  },
  {
   "cell_type": "code",
   "execution_count": 6,
   "metadata": {},
   "outputs": [],
   "source": [
    "elements_list = [str(genre) for genre in elements_list]"
   ]
  },
  {
   "cell_type": "code",
   "execution_count": 8,
   "metadata": {},
   "outputs": [
    {
     "name": "stdout",
     "output_type": "stream",
     "text": [
      "Lookup table aggiunta con successo al file nlu.yml!\n"
     ]
    },
    {
     "name": "stderr",
     "output_type": "stream",
     "text": [
      "<>:8: SyntaxWarning: invalid escape sequence '\\d'\n",
      "<>:8: SyntaxWarning: invalid escape sequence '\\d'\n",
      "C:\\Users\\dswal\\AppData\\Local\\Temp\\ipykernel_21768\\142718877.py:8: SyntaxWarning: invalid escape sequence '\\d'\n",
      "  nlu_file = 'C:/Users\\dswal\\Desktop/ChatBot-Data-Science-Project/data/nlu.yml'  # Sostituisci con il percorso del tuo file YAML\n"
     ]
    }
   ],
   "source": [
    "# Formatta gli esempi in stile YAML\n",
    "formatted_examples = \"\\n    - \".join(elements_list)\n",
    "\n",
    "# Prepara la struttura finale in formato testo simile a YAML\n",
    "lookup_table = f\"- lookup: {column}\\n  examples: |\\n    - {formatted_examples}\"\n",
    "\n",
    "# Carica il file nlu.yml\n",
    "nlu_file = 'C:/Users\\dswal\\Desktop/ChatBot-Data-Science-Project/data/nlu.yml'  # Sostituisci con il percorso del tuo file YAML\n",
    "\n",
    "# Leggi il contenuto del file YAML\n",
    "with open(nlu_file, 'r') as file:\n",
    "    nlu_data = file.readlines()\n",
    "\n",
    "# Aggiungi la lookup table al contenuto del file YAML\n",
    "nlu_data.append(lookup_table + \"\\n\")\n",
    "\n",
    "# Scrivi nuovamente nel file nlu.yml\n",
    "with open(nlu_file, 'w', encoding='utf-8') as file:\n",
    "    file.writelines(nlu_data)\n",
    "\n",
    "print(\"Lookup table aggiunta con successo al file nlu.yml!\")\n"
   ]
  }
 ],
 "metadata": {
  "kernelspec": {
   "display_name": "base",
   "language": "python",
   "name": "python3"
  },
  "language_info": {
   "codemirror_mode": {
    "name": "ipython",
    "version": 3
   },
   "file_extension": ".py",
   "mimetype": "text/x-python",
   "name": "python",
   "nbconvert_exporter": "python",
   "pygments_lexer": "ipython3",
   "version": "3.12.7"
  }
 },
 "nbformat": 4,
 "nbformat_minor": 2
}
