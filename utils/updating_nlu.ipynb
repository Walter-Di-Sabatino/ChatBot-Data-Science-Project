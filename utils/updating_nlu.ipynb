{
 "cells": [
  {
   "cell_type": "code",
   "execution_count": null,
   "metadata": {},
   "outputs": [],
   "source": [
    "import pandas as pd\n",
    "\n",
    "# Leggi il file CSV contenente i generi\n",
    "csv_file = 'lookup_files/tags_names.csv'  # Sostituisci con il percorso del tuo CSV\n",
    "df = pd.read_csv(csv_file)\n",
    "\n",
    "column = 'genre_name'\n",
    "\n",
    "\n",
    "# Estrai la lista dei generi dalla colonna\n",
    "elements_list = df[column].tolist()"
   ]
  },
  {
   "cell_type": "code",
   "execution_count": null,
   "metadata": {},
   "outputs": [],
   "source": [
    "elements_list = [str(genre.lower()) for genre in elements_list]\n"
   ]
  },
  {
   "cell_type": "code",
   "execution_count": null,
   "metadata": {},
   "outputs": [],
   "source": [
    "elements_list = [str(genre) for genre in elements_list]"
   ]
  },
  {
   "cell_type": "code",
   "execution_count": null,
   "metadata": {},
   "outputs": [],
   "source": [
    "# Formatta gli esempi in stile YAML\n",
    "formatted_examples = \"\\n    - \".join(elements_list)\n",
    "\n",
    "# Prepara la struttura finale in formato testo simile a YAML\n",
    "lookup_table = f\"- lookup: {column}\\n  examples: |\\n    - {formatted_examples}\"\n",
    "\n",
    "# Carica il file nlu.yml\n",
    "nlu_file = 'data/nlu.yml'  # Sostituisci con il percorso del tuo file YAML\n",
    "\n",
    "# Leggi il contenuto del file YAML\n",
    "with open(nlu_file, 'r') as file:\n",
    "    nlu_data = file.readlines()\n",
    "\n",
    "# Aggiungi la lookup table al contenuto del file YAML\n",
    "nlu_data.append(lookup_table + \"\\n\")\n",
    "\n",
    "# Scrivi nuovamente nel file nlu.yml\n",
    "with open(nlu_file, 'w', encoding='utf-8') as file:\n",
    "    file.writelines(nlu_data)\n",
    "\n",
    "print(\"Lookup table aggiunta con successo al file nlu.yml!\")\n"
   ]
  }
 ],
 "metadata": {
  "kernelspec": {
   "display_name": "Rasa_es",
   "language": "python",
   "name": "python3"
  },
  "language_info": {
   "name": "python",
   "version": "3.8.20"
  }
 },
 "nbformat": 4,
 "nbformat_minor": 2
}
