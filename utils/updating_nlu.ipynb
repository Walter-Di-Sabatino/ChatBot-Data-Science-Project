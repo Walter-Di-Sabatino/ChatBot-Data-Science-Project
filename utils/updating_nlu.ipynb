{
 "cells": [
  {
   "cell_type": "code",
   "execution_count": 22,
   "metadata": {},
   "outputs": [],
   "source": [
    "import os\n",
    "from sqlalchemy.orm import sessionmaker\n",
    "from dotenv import load_dotenv\n",
    "import sys\n",
    "import os\n",
    "\n",
    "project_root = r\"C:\\Users\\dswal\\Desktop\\ChatBot-Data-Science-Project\"\n",
    "sys.path.append(project_root)\n",
    "\n",
    "from database.models import *\n",
    "\n",
    "load_dotenv()\n",
    "# Recupera gli elementi dell'URL del database\n",
    "DB_USER = os.getenv(\"DB_USER\", \"root\")  # Usa \"root\" come valore predefinito\n",
    "DB_PASSWORD = os.getenv(\"DB_PASSWORD\", \"Jawalter2020-\")\n",
    "DB_HOST = os.getenv(\"DB_HOST\", \"localhost\")\n",
    "DB_NAME = os.getenv(\"DB_NAME\", \"steam_library\")\n",
    "DB_DRIVER = os.getenv(\"DB_DRIVER\", \"mysql+pymysql\")\n",
    "\n",
    "# Costruisci l'URL del database\n",
    "DATABASE_URL = f\"{DB_DRIVER}://{DB_USER}:{DB_PASSWORD}@{DB_HOST}/{DB_NAME}\"\n",
    "\n",
    "engine = create_engine(DATABASE_URL)\n",
    "Session = sessionmaker(bind=engine)\n",
    "session = Session()\n",
    "\n",
    "column = \"publisher\"\n",
    "\n",
    "elements_list = session.query(Publisher.name).distinct().all()"
   ]
  },
  {
   "cell_type": "code",
   "execution_count": 20,
   "metadata": {},
   "outputs": [],
   "source": [
    "elements_list = [str((genre[0]).lower()) for genre in elements_list]\n"
   ]
  },
  {
   "cell_type": "code",
   "execution_count": 23,
   "metadata": {},
   "outputs": [],
   "source": [
    "elements_list = [str(genre[0]) for genre in elements_list]\n"
   ]
  },
  {
   "cell_type": "code",
   "execution_count": 24,
   "metadata": {},
   "outputs": [
    {
     "name": "stdout",
     "output_type": "stream",
     "text": [
      "Lookup table aggiunta con successo al file nlu.yml!\n"
     ]
    }
   ],
   "source": [
    "# Formatta gli esempi in stile YAML\n",
    "formatted_examples = \"\\n    - \".join(elements_list)\n",
    "\n",
    "# Prepara la struttura finale in formato testo simile a YAML\n",
    "lookup_table = f\"- lookup: {column}\\n  examples: |\\n    - {formatted_examples}\"\n",
    "\n",
    "# Carica il file nlu.yml\n",
    "nlu_file = 'C:/Users\\dswal\\Desktop/ChatBot-Data-Science-Project/data/nlu.yml'  # Sostituisci con il percorso del tuo file YAML\n",
    "\n",
    "# Leggi il contenuto del file YAML\n",
    "with open(nlu_file, 'r') as file:\n",
    "    nlu_data = file.readlines()\n",
    "\n",
    "# Aggiungi la lookup table al contenuto del file YAML\n",
    "nlu_data.append(lookup_table + \"\\n\")\n",
    "\n",
    "# Scrivi nuovamente nel file nlu.yml\n",
    "with open(nlu_file, 'w', encoding='utf-8') as file:\n",
    "    file.writelines(nlu_data)\n",
    "\n",
    "print(\"Lookup table aggiunta con successo al file nlu.yml!\")\n"
   ]
  }
 ],
 "metadata": {
  "kernelspec": {
   "display_name": "Rasa_es",
   "language": "python",
   "name": "python3"
  },
  "language_info": {
   "codemirror_mode": {
    "name": "ipython",
    "version": 3
   },
   "file_extension": ".py",
   "mimetype": "text/x-python",
   "name": "python",
   "nbconvert_exporter": "python",
   "pygments_lexer": "ipython3",
   "version": "3.8.20"
  }
 },
 "nbformat": 4,
 "nbformat_minor": 2
}
